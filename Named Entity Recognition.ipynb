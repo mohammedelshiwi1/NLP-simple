{
 "cells": [
  {
   "cell_type": "code",
   "execution_count": 1,
   "id": "74cfcd62-ad60-4382-a847-1661a78c3dbd",
   "metadata": {},
   "outputs": [],
   "source": [
    "sentence='The eiffel tower was built from 1887 to 1889 by french Engineer'"
   ]
  },
  {
   "cell_type": "code",
   "execution_count": 2,
   "id": "2e6fd205-fe9d-436f-a642-adfd5d201b10",
   "metadata": {},
   "outputs": [],
   "source": [
    "import nltk "
   ]
  },
  {
   "cell_type": "code",
   "execution_count": 3,
   "id": "abc563af-ef38-459b-a3eb-f8229e3f2a88",
   "metadata": {},
   "outputs": [],
   "source": [
    "words=nltk.word_tokenize(sentence)"
   ]
  },
  {
   "cell_type": "code",
   "execution_count": 4,
   "id": "90000338-a031-4ca8-8f60-1b8cc59073aa",
   "metadata": {},
   "outputs": [],
   "source": [
    "tag_elements=nltk.pos_tag(words)"
   ]
  },
  {
   "cell_type": "code",
   "execution_count": null,
   "id": "33eedf0f-206a-4671-b45f-3aabcd6b7f9e",
   "metadata": {},
   "outputs": [],
   "source": [
    "nltk.ne_chunk(tag_elements).draw()"
   ]
  },
  {
   "cell_type": "code",
   "execution_count": null,
   "id": "7f76dbd2-5eaf-4fc8-a851-f1f7b0ea277c",
   "metadata": {},
   "outputs": [],
   "source": []
  }
 ],
 "metadata": {
  "kernelspec": {
   "display_name": "Python 3 (ipykernel)",
   "language": "python",
   "name": "python3"
  },
  "language_info": {
   "codemirror_mode": {
    "name": "ipython",
    "version": 3
   },
   "file_extension": ".py",
   "mimetype": "text/x-python",
   "name": "python",
   "nbconvert_exporter": "python",
   "pygments_lexer": "ipython3",
   "version": "3.12.4"
  }
 },
 "nbformat": 4,
 "nbformat_minor": 5
}
