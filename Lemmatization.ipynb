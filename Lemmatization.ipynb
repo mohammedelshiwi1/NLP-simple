{
 "cells": [
  {
   "cell_type": "code",
   "execution_count": 1,
   "id": "3ee58cb9-2587-4ea6-8610-c2e5aeb02e93",
   "metadata": {},
   "outputs": [],
   "source": [
    "from nltk.stem import WordNetLemmatizer"
   ]
  },
  {
   "cell_type": "code",
   "execution_count": 2,
   "id": "c835ca61-b20d-4daf-ac1a-5b3bafe2b5d1",
   "metadata": {},
   "outputs": [],
   "source": [
    "lemmatizer=WordNetLemmatizer()"
   ]
  },
  {
   "cell_type": "code",
   "execution_count": 9,
   "id": "696caedc-3860-450c-8b8c-e50a3ed3093f",
   "metadata": {},
   "outputs": [
    {
     "data": {
      "text/plain": [
       "'going'"
      ]
     },
     "execution_count": 9,
     "metadata": {},
     "output_type": "execute_result"
    }
   ],
   "source": [
    "lemmatizer.lemmatize('going',pos='r')"
   ]
  },
  {
   "cell_type": "code",
   "execution_count": 10,
   "id": "6faaa934-10fa-40c6-89a8-2766d6e9557f",
   "metadata": {},
   "outputs": [],
   "source": [
    "words = [\"Running\", \"Studies\", \"Happily\",\"happy\", \"Cars\", \"Leaves\", \"Playing\", \"Singing\", \n",
    "         \"Better\", \"Organization\", \"Swimming\", \"Quickly\", \"Children\", \"Walking\", \n",
    "         \"Goes\", \"Driving\"]"
   ]
  },
  {
   "cell_type": "code",
   "execution_count": 11,
   "id": "cd3694cc-8d16-4a64-9d66-80283a732070",
   "metadata": {},
   "outputs": [
    {
     "name": "stdout",
     "output_type": "stream",
     "text": [
      "Running ---> run\n",
      "Studies ---> study\n",
      "Happily ---> happily\n",
      "happy ---> happy\n",
      "Cars ---> cars\n",
      "Leaves ---> leave\n",
      "Playing ---> play\n",
      "Singing ---> sing\n",
      "Better ---> better\n",
      "Organization ---> organization\n",
      "Swimming ---> swim\n",
      "Quickly ---> quickly\n",
      "Children ---> children\n",
      "Walking ---> walk\n",
      "Goes ---> go\n",
      "Driving ---> drive\n"
     ]
    }
   ],
   "source": [
    "for wrd in words:\n",
    "    print(f'{wrd} ---> {lemmatizer.lemmatize(wrd.lower(),pos='v')}')"
   ]
  },
  {
   "cell_type": "code",
   "execution_count": null,
   "id": "ee07813e-30c2-471e-9fc2-873b92f49206",
   "metadata": {},
   "outputs": [],
   "source": []
  }
 ],
 "metadata": {
  "kernelspec": {
   "display_name": "Python 3 (ipykernel)",
   "language": "python",
   "name": "python3"
  },
  "language_info": {
   "codemirror_mode": {
    "name": "ipython",
    "version": 3
   },
   "file_extension": ".py",
   "mimetype": "text/x-python",
   "name": "python",
   "nbconvert_exporter": "python",
   "pygments_lexer": "ipython3",
   "version": "3.12.4"
  }
 },
 "nbformat": 4,
 "nbformat_minor": 5
}
