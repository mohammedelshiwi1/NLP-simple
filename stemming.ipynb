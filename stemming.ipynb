{
 "cells": [
  {
   "cell_type": "code",
   "execution_count": 1,
   "id": "874812de-4425-4d66-8644-b606eeb8e759",
   "metadata": {},
   "outputs": [],
   "source": [
    "from nltk.stem import PorterStemmer"
   ]
  },
  {
   "cell_type": "code",
   "execution_count": 2,
   "id": "bd812cac-b03a-4410-81da-131800f8b6f9",
   "metadata": {},
   "outputs": [],
   "source": [
    "stemmer=PorterStemmer()"
   ]
  },
  {
   "cell_type": "code",
   "execution_count": 6,
   "id": "c19ebdb0-590c-4c73-833f-0bae249c1eed",
   "metadata": {},
   "outputs": [],
   "source": [
    "words = [\"Running\", \"Studies\", \"Happily\",\"happy\", \"Cars\", \"Leaves\", \"Playing\", \"Singing\", \n",
    "         \"Better\", \"Organization\", \"Swimming\", \"Quickly\", \"Children\", \"Walking\", \n",
    "         \"Goes\", \"Driving\"]"
   ]
  },
  {
   "cell_type": "code",
   "execution_count": 7,
   "id": "bf430aba-4cfe-48be-a31c-9145466bbeaf",
   "metadata": {},
   "outputs": [
    {
     "name": "stdout",
     "output_type": "stream",
     "text": [
      "thw stemming of Running is --> run\n",
      "thw stemming of Studies is --> studi\n",
      "thw stemming of Happily is --> happili\n",
      "thw stemming of happy is --> happi\n",
      "thw stemming of Cars is --> car\n",
      "thw stemming of Leaves is --> leav\n",
      "thw stemming of Playing is --> play\n",
      "thw stemming of Singing is --> sing\n",
      "thw stemming of Better is --> better\n",
      "thw stemming of Organization is --> organ\n",
      "thw stemming of Swimming is --> swim\n",
      "thw stemming of Quickly is --> quickli\n",
      "thw stemming of Children is --> children\n",
      "thw stemming of Walking is --> walk\n",
      "thw stemming of Goes is --> goe\n",
      "thw stemming of Driving is --> drive\n"
     ]
    }
   ],
   "source": [
    "for wrd in words:\n",
    "    print(f'thw stemming of {wrd} is --> {stemmer.stem(wrd)}')"
   ]
  },
  {
   "cell_type": "code",
   "execution_count": 8,
   "id": "224ec32c-08c2-4f80-849a-1ba0470a1f17",
   "metadata": {},
   "outputs": [],
   "source": [
    "from nltk.stem import RegexpStemmer"
   ]
  },
  {
   "cell_type": "code",
   "execution_count": 12,
   "id": "90842377-a90a-46b4-b25d-52abca1f3c4e",
   "metadata": {},
   "outputs": [],
   "source": [
    "regex_stem=RegexpStemmer('ing$|s$|e$|able$', min=3)"
   ]
  },
  {
   "cell_type": "code",
   "execution_count": 13,
   "id": "b0dff22d-58a3-4a21-8cfb-6c1178c7f853",
   "metadata": {},
   "outputs": [
    {
     "name": "stdout",
     "output_type": "stream",
     "text": [
      "thw stemming of Running is --> Runn\n",
      "thw stemming of Studies is --> Studie\n",
      "thw stemming of Happily is --> Happily\n",
      "thw stemming of happy is --> happy\n",
      "thw stemming of Cars is --> Car\n",
      "thw stemming of Leaves is --> Leave\n",
      "thw stemming of Playing is --> Play\n",
      "thw stemming of Singing is --> Sing\n",
      "thw stemming of Better is --> Better\n",
      "thw stemming of Organization is --> Organization\n",
      "thw stemming of Swimming is --> Swimm\n",
      "thw stemming of Quickly is --> Quickly\n",
      "thw stemming of Children is --> Children\n",
      "thw stemming of Walking is --> Walk\n",
      "thw stemming of Goes is --> Goe\n",
      "thw stemming of Driving is --> Driv\n"
     ]
    }
   ],
   "source": [
    "for wrd in words:\n",
    "    print(f'thw stemming of {wrd} is --> {regex_stem.stem(wrd)}')"
   ]
  },
  {
   "cell_type": "code",
   "execution_count": 14,
   "id": "e29e15c5-2990-42c0-ac23-68643c1baeac",
   "metadata": {},
   "outputs": [],
   "source": [
    "from nltk.stem import SnowballStemmer"
   ]
  },
  {
   "cell_type": "code",
   "execution_count": 15,
   "id": "e73c7516-0b8d-48ab-853f-b4534218ee4d",
   "metadata": {},
   "outputs": [],
   "source": [
    "stem=SnowballStemmer('english')"
   ]
  },
  {
   "cell_type": "code",
   "execution_count": 16,
   "id": "db6e53d5-5d88-470f-ac70-c4b9e49d946d",
   "metadata": {},
   "outputs": [
    {
     "name": "stdout",
     "output_type": "stream",
     "text": [
      "thw stemming of Running is --> run\n",
      "thw stemming of Studies is --> studi\n",
      "thw stemming of Happily is --> happili\n",
      "thw stemming of happy is --> happi\n",
      "thw stemming of Cars is --> car\n",
      "thw stemming of Leaves is --> leav\n",
      "thw stemming of Playing is --> play\n",
      "thw stemming of Singing is --> sing\n",
      "thw stemming of Better is --> better\n",
      "thw stemming of Organization is --> organ\n",
      "thw stemming of Swimming is --> swim\n",
      "thw stemming of Quickly is --> quick\n",
      "thw stemming of Children is --> children\n",
      "thw stemming of Walking is --> walk\n",
      "thw stemming of Goes is --> goe\n",
      "thw stemming of Driving is --> drive\n"
     ]
    }
   ],
   "source": [
    "for wrd in words:\n",
    "    print(f'thw stemming of {wrd} is --> {stem.stem(wrd)}')"
   ]
  },
  {
   "cell_type": "code",
   "execution_count": null,
   "id": "dc355c9a-9949-49fe-b2af-c37805c67f8a",
   "metadata": {},
   "outputs": [],
   "source": []
  }
 ],
 "metadata": {
  "kernelspec": {
   "display_name": "Python 3 (ipykernel)",
   "language": "python",
   "name": "python3"
  },
  "language_info": {
   "codemirror_mode": {
    "name": "ipython",
    "version": 3
   },
   "file_extension": ".py",
   "mimetype": "text/x-python",
   "name": "python",
   "nbconvert_exporter": "python",
   "pygments_lexer": "ipython3",
   "version": "3.12.4"
  }
 },
 "nbformat": 4,
 "nbformat_minor": 5
}
