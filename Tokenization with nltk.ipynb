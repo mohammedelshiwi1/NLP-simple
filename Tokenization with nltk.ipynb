{
 "cells": [
  {
   "cell_type": "code",
   "execution_count": 13,
   "id": "c9bdf91b-7cc8-4c15-8656-1d3bdaa8b1a6",
   "metadata": {},
   "outputs": [
    {
     "name": "stderr",
     "output_type": "stream",
     "text": [
      "[nltk_data] Downloading package punkt to C:\\Users\\DELL\n",
      "[nltk_data]     5520\\AppData\\Roaming\\nltk_data...\n",
      "[nltk_data]   Unzipping tokenizers\\punkt.zip.\n"
     ]
    },
    {
     "data": {
      "text/plain": [
       "True"
      ]
     },
     "execution_count": 13,
     "metadata": {},
     "output_type": "execute_result"
    }
   ],
   "source": [
    "import nltk\n",
    "nltk.download('punkt')"
   ]
  },
  {
   "cell_type": "code",
   "execution_count": 1,
   "id": "02100dd4-eb4d-40ac-ad9b-b99abb364c3d",
   "metadata": {},
   "outputs": [],
   "source": [
    "corpus=\"\"\"hello , i'm mohammed elshiwi.\n",
    "i love Data Science and i love coffee\n",
    "\"\"\""
   ]
  },
  {
   "cell_type": "markdown",
   "id": "2b1afccb-c2ef-4bd4-a5a9-b6fdbf94fcc5",
   "metadata": {},
   "source": [
    "# Tokenization"
   ]
  },
  {
   "cell_type": "code",
   "execution_count": 2,
   "id": "97034601-ed6a-47f2-9993-886639866536",
   "metadata": {},
   "outputs": [],
   "source": [
    "from nltk.tokenize import sent_tokenize"
   ]
  },
  {
   "cell_type": "code",
   "execution_count": 3,
   "id": "dac37141-7e34-4837-9d84-9ac5339e1075",
   "metadata": {},
   "outputs": [],
   "source": [
    "documents=sent_tokenize(corpus)"
   ]
  },
  {
   "cell_type": "code",
   "execution_count": 4,
   "id": "a75327df-2ed2-4ea5-a908-47d29f7bb243",
   "metadata": {},
   "outputs": [
    {
     "data": {
      "text/plain": [
       "list"
      ]
     },
     "execution_count": 4,
     "metadata": {},
     "output_type": "execute_result"
    }
   ],
   "source": [
    "type(documents)"
   ]
  },
  {
   "cell_type": "code",
   "execution_count": 5,
   "id": "f9c44e49-1d60-407b-b852-8be9498e1761",
   "metadata": {},
   "outputs": [
    {
     "name": "stdout",
     "output_type": "stream",
     "text": [
      "hello , i'm mohammed elshiwi.\n",
      "i love Data Science and i love coffee\n"
     ]
    }
   ],
   "source": [
    "for sent in documents:\n",
    "    print(sent)"
   ]
  },
  {
   "cell_type": "code",
   "execution_count": 6,
   "id": "ee4e860b-ab88-4983-b09d-9db150e42154",
   "metadata": {},
   "outputs": [],
   "source": [
    "from nltk.tokenize import word_tokenize"
   ]
  },
  {
   "cell_type": "code",
   "execution_count": 7,
   "id": "3748343a-ce3f-4c3a-9a94-218bf1d63738",
   "metadata": {},
   "outputs": [
    {
     "data": {
      "text/plain": [
       "['hello',\n",
       " ',',\n",
       " 'i',\n",
       " \"'m\",\n",
       " 'mohammed',\n",
       " 'elshiwi',\n",
       " '.',\n",
       " 'i',\n",
       " 'love',\n",
       " 'Data',\n",
       " 'Science',\n",
       " 'and',\n",
       " 'i',\n",
       " 'love',\n",
       " 'coffee']"
      ]
     },
     "execution_count": 7,
     "metadata": {},
     "output_type": "execute_result"
    }
   ],
   "source": [
    "word_tokenize(corpus)"
   ]
  },
  {
   "cell_type": "code",
   "execution_count": 8,
   "id": "483efc72-38c1-444f-9e08-7cea63f8c830",
   "metadata": {},
   "outputs": [],
   "source": [
    "from nltk.tokenize import wordpunct_tokenize"
   ]
  },
  {
   "cell_type": "code",
   "execution_count": 9,
   "id": "a513c8f3-5091-4bb1-8963-5e2018180ce2",
   "metadata": {},
   "outputs": [
    {
     "data": {
      "text/plain": [
       "['hello',\n",
       " ',',\n",
       " 'i',\n",
       " \"'\",\n",
       " 'm',\n",
       " 'mohammed',\n",
       " 'elshiwi',\n",
       " '.',\n",
       " 'i',\n",
       " 'love',\n",
       " 'Data',\n",
       " 'Science',\n",
       " 'and',\n",
       " 'i',\n",
       " 'love',\n",
       " 'coffee']"
      ]
     },
     "execution_count": 9,
     "metadata": {},
     "output_type": "execute_result"
    }
   ],
   "source": [
    "wordpunct_tokenize(corpus)"
   ]
  },
  {
   "cell_type": "code",
   "execution_count": 10,
   "id": "a4a4cb0b-fb7e-4b53-a300-d44658e5c2d0",
   "metadata": {},
   "outputs": [],
   "source": [
    "from nltk.tokenize import TreebankWordTokenizer"
   ]
  },
  {
   "cell_type": "code",
   "execution_count": 11,
   "id": "cb47ef1a-eac1-4816-a79e-875cc6cdf6c4",
   "metadata": {},
   "outputs": [],
   "source": [
    "tok=TreebankWordTokenizer()"
   ]
  },
  {
   "cell_type": "code",
   "execution_count": 12,
   "id": "82a598bd-2b35-47cc-9da6-89cbcc96f206",
   "metadata": {},
   "outputs": [
    {
     "data": {
      "text/plain": [
       "['hello',\n",
       " ',',\n",
       " 'i',\n",
       " \"'m\",\n",
       " 'mohammed',\n",
       " 'elshiwi.',\n",
       " 'i',\n",
       " 'love',\n",
       " 'Data',\n",
       " 'Science',\n",
       " 'and',\n",
       " 'i',\n",
       " 'love',\n",
       " 'coffee']"
      ]
     },
     "execution_count": 12,
     "metadata": {},
     "output_type": "execute_result"
    }
   ],
   "source": [
    "tok.tokenize(corpus)"
   ]
  }
 ],
 "metadata": {
  "kernelspec": {
   "display_name": "Python 3 (ipykernel)",
   "language": "python",
   "name": "python3"
  },
  "language_info": {
   "codemirror_mode": {
    "name": "ipython",
    "version": 3
   },
   "file_extension": ".py",
   "mimetype": "text/x-python",
   "name": "python",
   "nbconvert_exporter": "python",
   "pygments_lexer": "ipython3",
   "version": "3.12.4"
  }
 },
 "nbformat": 4,
 "nbformat_minor": 5
}
